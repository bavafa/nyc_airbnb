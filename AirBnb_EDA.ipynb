{
 "cells": [
  {
   "cell_type": "markdown",
   "id": "71f888c8",
   "metadata": {},
   "source": [
    "# AirBnB Price Prediction Model\n",
    "\n",
    "This notebook goes over building a machine learning model to try to predict the price of an Airbnb listing in NYC based on a dataset of approximately 50,000 listings.\n",
    "\n",
    "This report contains several sections\n",
    "1. [Data Preparation](#Data-Preparation)\n",
    "2. [Preprocessing and Transformation Pipelines](#Preprocessing-and-Transformation-Pipelines)\n",
    "3. [Dummy Regressor Model](#Dummy-Regressor)\n",
    "4. [KNN Regression Model](#KNN-Regressor)\n",
    "5. [Ridge Regression Model](#Ridge-Regressor)\n",
    "6. [Decision Tree Regression Model](#Decision-Tree-Regressor)\n",
    "7. [Alternate Model Using Price Categories](#Binning-Price-and-Using-a-Classification-Model)\n",
    "\n",
    "The various models were built to try to find the optimal algorithm to use for this dataset."
   ]
  },
  {
   "cell_type": "markdown",
   "id": "7cab18f6",
   "metadata": {},
   "source": [
    "## Data Preparation"
   ]
  },
  {
   "cell_type": "code",
   "execution_count": null,
   "id": "16e289c1",
   "metadata": {},
   "outputs": [],
   "source": [
    "import numpy as np\n",
    "import pandas as pd\n",
    "import matplotlib.pyplot as plt\n",
    "import seaborn as sns"
   ]
  },
  {
   "cell_type": "code",
   "execution_count": null,
   "id": "ca2f7554",
   "metadata": {},
   "outputs": [],
   "source": [
    "airbnb=pd.read_csv(\"AB_NYC_2019.csv\")\n",
    "airbnb.drop(['id','host_id','host_name','last_review'], axis=1, inplace=True)\n",
    "airbnb['name'] = airbnb['name'].fillna('missing') # could not get simpleimputer to work in pipeline with count vectorizer This seems to be an issue with sklearn \n",
    "#https://stackoverflow.com/questions/63000388/how-to-include-simpleimputer-before-countvectorizer-in-a-scikit-learn-pipeline"
   ]
  },
  {
   "cell_type": "code",
   "execution_count": null,
   "id": "e0aba1cf",
   "metadata": {},
   "outputs": [],
   "source": [
    "from sklearn.model_selection import train_test_split\n",
    "\n",
    "train_df, test_df = train_test_split(airbnb, test_size=0.2, random_state=123)\n"
   ]
  },
  {
   "cell_type": "code",
   "execution_count": null,
   "id": "ee7c450f",
   "metadata": {},
   "outputs": [],
   "source": [
    "train_df.info()"
   ]
  },
  {
   "cell_type": "code",
   "execution_count": null,
   "id": "3d096528",
   "metadata": {},
   "outputs": [],
   "source": [
    "airbnb.isnull().sum() #how many nulls are found in each column in dataset "
   ]
  },
  {
   "cell_type": "code",
   "execution_count": null,
   "id": "ae260825",
   "metadata": {},
   "outputs": [],
   "source": [
    "#Correlation Matrix for numerical values, low correlation between features and target variable likely means it will be difficult to get a high scoring model\n",
    "#Code sourced from https://stackoverflow.com/questions/29432629/plot-correlation-matrix-using-pandas\n",
    "f= plt.figure(figsize=(19, 15))\n",
    "plt.matshow(train_df.corr(), fignum=f.number)\n",
    "plt.xticks(range(train_df.select_dtypes(['number']).shape[1]), train_df.select_dtypes(['number']).columns, fontsize=14, rotation=45)\n",
    "plt.yticks(range(train_df.select_dtypes(['number']).shape[1]), train_df.select_dtypes(['number']).columns, fontsize=14)\n",
    "cb = plt.colorbar()\n",
    "cb.ax.tick_params(labelsize=14)\n",
    "plt.title('Correlation Matrix', fontsize=16);"
   ]
  },
  {
   "cell_type": "code",
   "execution_count": null,
   "id": "c3fd8eca",
   "metadata": {},
   "outputs": [],
   "source": [
    "#correlation matrix\n",
    "train_df.corr()"
   ]
  },
  {
   "cell_type": "code",
   "execution_count": null,
   "id": "9ebea417",
   "metadata": {},
   "outputs": [],
   "source": [
    "# Numerical description\n",
    "train_df.describe(include=[np.number])"
   ]
  },
  {
   "cell_type": "code",
   "execution_count": null,
   "id": "635db16b",
   "metadata": {},
   "outputs": [],
   "source": [
    "# Categorical\n",
    "train_df.describe(include=['O'])"
   ]
  },
  {
   "cell_type": "code",
   "execution_count": null,
   "id": "c0c7daa2",
   "metadata": {},
   "outputs": [],
   "source": [
    "train_df.groupby('neighbourhood_group').median()[['price','minimum_nights']]"
   ]
  },
  {
   "cell_type": "code",
   "execution_count": null,
   "id": "ac0a33e9",
   "metadata": {},
   "outputs": [],
   "source": [
    "#Plot histogram\n",
    "import altair as alt\n",
    "alt.data_transformers.disable_max_rows() \n",
    "\n",
    "alt.Chart(train_df).mark_bar(\n",
    "    opacity=0.5,\n",
    "    binSpacing=0\n",
    ").encode(\n",
    "    alt.X('price:Q', bin=alt.Bin(maxbins=100)),\n",
    "    alt.Y('count()', stack=None),\n",
    "    alt.Color('neighbourhood_group:N'))"
   ]
  },
  {
   "cell_type": "code",
   "execution_count": null,
   "id": "7232b1ff",
   "metadata": {},
   "outputs": [],
   "source": [
    "#create df with lower prices\n",
    "lowerprices = train_df[train_df['price'] <1000]"
   ]
  },
  {
   "cell_type": "code",
   "execution_count": null,
   "id": "da7708c8",
   "metadata": {},
   "outputs": [],
   "source": [
    "alt.Chart(lowerprices).mark_bar(\n",
    "    opacity=0.6,\n",
    "    binSpacing=0\n",
    ").encode(\n",
    "    alt.X('price:Q', bin=alt.Bin(maxbins=100)),\n",
    "    alt.Y('count()', stack=None),\n",
    "    alt.Color('neighbourhood_group:N'))"
   ]
  },
  {
   "cell_type": "code",
   "execution_count": null,
   "id": "b193652c",
   "metadata": {},
   "outputs": [],
   "source": [
    "alt.Chart(lowerprices).mark_bar(\n",
    "    opacity=0.6,\n",
    "    binSpacing=0\n",
    ").encode(\n",
    "    alt.X('price:Q', bin=alt.Bin(maxbins=100)),\n",
    "    alt.Y('count()', stack=None),\n",
    "    alt.Color('room_type:N'))"
   ]
  },
  {
   "cell_type": "code",
   "execution_count": null,
   "id": "fadd0839",
   "metadata": {},
   "outputs": [],
   "source": [
    "alt.Chart(lowerprices).mark_bar(\n",
    "    opacity=0.6,\n",
    "    binSpacing=0\n",
    ").encode(\n",
    "    alt.X('price:Q', bin=alt.Bin(maxbins=100)),\n",
    "    alt.Y('count()', stack=None),\n",
    "    alt.Color('number_of_reviews:Q',bin = True))"
   ]
  },
  {
   "cell_type": "code",
   "execution_count": null,
   "id": "027083cb",
   "metadata": {},
   "outputs": [],
   "source": [
    "alt.Chart(lowerprices).mark_bar(\n",
    "    opacity=0.6,\n",
    "    binSpacing=0\n",
    ").encode(\n",
    "    alt.X('price:Q', bin=alt.Bin(maxbins=100)),\n",
    "    alt.Y('count()', stack=None),\n",
    "    alt.Color('reviews_per_month:Q',bin = True))"
   ]
  },
  {
   "cell_type": "code",
   "execution_count": null,
   "id": "c1a7b760",
   "metadata": {},
   "outputs": [],
   "source": [
    "#Function to bin the listings by price according to quartile\n",
    "def pricerange(price):\n",
    "    if price <=69:\n",
    "        return 'low'\n",
    "    elif price > 69 and price <=106:\n",
    "        return 'medium-low'\n",
    "    elif price > 106 and price <=175:\n",
    "        return 'medium-high'\n",
    "    elif price >175:\n",
    "        return 'high'"
   ]
  },
  {
   "cell_type": "code",
   "execution_count": null,
   "id": "e64a7da7",
   "metadata": {},
   "outputs": [],
   "source": [
    "#Create a new column in the dataframe that is a price category\n",
    "train_df['price_range'] = airbnb.apply(lambda x: pricerange(x['price']),axis = 1)"
   ]
  },
  {
   "cell_type": "code",
   "execution_count": null,
   "id": "ccbc37d9",
   "metadata": {},
   "outputs": [],
   "source": [
    "alt.Chart(train_df).mark_bar(\n",
    "    opacity=1,\n",
    "    binSpacing=0\n",
    ").encode(\n",
    "    alt.X('price:Q', bin=alt.Bin(maxbins=100)),\n",
    "    alt.Y('count()', stack=None),\n",
    "    alt.Color('price_range:N',scale=alt.Scale(\n",
    "            domain=['high', 'medium-high','medium-low','low'],\n",
    "            range=['black', 'blue','green','red'])))"
   ]
  },
  {
   "cell_type": "code",
   "execution_count": null,
   "id": "e633bd6c",
   "metadata": {
    "scrolled": true
   },
   "outputs": [],
   "source": [
    "#REALLY SLOW\n",
    "#interactive map slow to load as each point is added to map\n",
    "#code is taken from a previous project\n",
    "# create map\n",
    "import folium\n",
    "import matplotlib.cm as cm\n",
    "import matplotlib.colors as colors\n",
    "import matplotlib.pyplot as plt\n",
    "\n",
    "map_airbnb = folium.Map(location=[40.73293,-73.99782], zoom_start=11)\n",
    "pricedict = {'low':0,'medium-low':1,'medium-high':2, 'high':3}\n",
    "colorlist = ['#FF0000','#00FF00','#0000FF','#000000']\n",
    "\n",
    "# add markers to the map\n",
    "markers_colors = []\n",
    "for lat, lon, name, price in zip(train_df['latitude'], train_df['longitude'], train_df['name'], train_df['price_range']):\n",
    "    label = folium.Popup(str(name) + ' PRICE RANGE: ' + str(price), parse_html=True)\n",
    "    folium.CircleMarker(\n",
    "        [lat, lon],\n",
    "        radius=2,\n",
    "        popup=label,\n",
    "        color=colorlist[pricedict[price]],\n",
    "        fill=True,\n",
    "        fill_color=colorlist[pricedict[price]],\n",
    "        fill_opacity=0.4).add_to(map_airbnb)\n",
    "       \n",
    "map_airbnb"
   ]
  },
  {
   "cell_type": "code",
   "execution_count": null,
   "id": "b5516eb6",
   "metadata": {},
   "outputs": [],
   "source": [
    "#save the map as html file\n",
    "map_airbnb\n",
    "output_file = \"nyccolormap.html\"\n",
    "map_airbnb.save(output_file)\n"
   ]
  },
  {
   "cell_type": "code",
   "execution_count": null,
   "id": "f7e55779",
   "metadata": {},
   "outputs": [],
   "source": [
    "#Split the data into x,y sets\n",
    "X_train = train_df.drop(columns = ['price'])\n",
    "y_train = train_df[\"price\"]\n",
    "\n",
    "X_test = test_df.drop(columns=[\"price\"])\n",
    "y_test = test_df[\"price\"]"
   ]
  },
  {
   "cell_type": "markdown",
   "id": "eb2f47f9",
   "metadata": {},
   "source": [
    "## Preprocessing and Transformation Pipelines"
   ]
  },
  {
   "cell_type": "code",
   "execution_count": null,
   "id": "34acb95d",
   "metadata": {},
   "outputs": [],
   "source": [
    "numeric_features = ['latitude', 'longitude', 'number_of_reviews','reviews_per_month', 'reviews_per_month']\n",
    "categorical_features = ['room_type']\n",
    "#text_features = ['name']"
   ]
  },
  {
   "cell_type": "code",
   "execution_count": null,
   "id": "8e22e2e3",
   "metadata": {},
   "outputs": [],
   "source": [
    "from sklearn.neighbors import KNeighborsRegressor\n",
    "from sklearn.impute import SimpleImputer\n",
    "from sklearn.pipeline import Pipeline\n",
    "from sklearn.preprocessing import StandardScaler\n",
    "from sklearn.preprocessing import OneHotEncoder\n",
    "from sklearn.pipeline import make_pipeline\n",
    "from sklearn.feature_extraction.text import CountVectorizer\n",
    "\n",
    "\n",
    "\n",
    "\n",
    "\n",
    "numeric_transformer = Pipeline(\n",
    "    steps=[\n",
    "        (\"imputer\", SimpleImputer(strategy=\"constant\",fill_value = 0)),\n",
    "        (\"scaler\", StandardScaler()),\n",
    "    ]\n",
    ")\n",
    "\n",
    "categorical_transformer= Pipeline(steps=[\n",
    "                ('onehotencoder', OneHotEncoder(handle_unknown=\"ignore\"))])\n",
    "\n",
    "#text_transformer = make_pipeline(CountVectorizer(max_features = 3),StandardScaler(with_mean=False)) "
   ]
  },
  {
   "cell_type": "code",
   "execution_count": null,
   "id": "82e97f61",
   "metadata": {},
   "outputs": [],
   "source": [
    "from sklearn.compose import ColumnTransformer\n",
    "preprocessor = ColumnTransformer(\n",
    "    transformers=[\n",
    "        (\"numeric\", numeric_transformer, numeric_features),\n",
    "        (\"categorical\", categorical_transformer, categorical_features)\n",
    "        #(\"text\", text_transformer, 'name')\n",
    "       \n",
    "    ], \n",
    "    remainder='drop'    \n",
    ")"
   ]
  },
  {
   "cell_type": "markdown",
   "id": "ce5aa5e3",
   "metadata": {},
   "source": [
    "## Dummy Regressor"
   ]
  },
  {
   "cell_type": "code",
   "execution_count": null,
   "id": "47abd03e",
   "metadata": {},
   "outputs": [],
   "source": [
    "from sklearn.dummy import DummyRegressor\n",
    "\n",
    "pipe1 = make_pipeline(\n",
    "    preprocessor,DummyRegressor())\n",
    "pipe1"
   ]
  },
  {
   "cell_type": "code",
   "execution_count": null,
   "id": "c84620d1",
   "metadata": {},
   "outputs": [],
   "source": [
    "from sklearn.model_selection import RandomizedSearchCV\n",
    "\n",
    "param_grid = {\n",
    "    \"dummyregressor__strategy\": ['mean']\n",
    " \n",
    "}\n",
    "random_search = RandomizedSearchCV(pipe1,  param_distributions= param_grid, cv=2, verbose=2, n_jobs=2, n_iter=5, return_train_score = True)\n",
    "random_search.fit(X_train, y_train);"
   ]
  },
  {
   "cell_type": "code",
   "execution_count": null,
   "id": "5f4d1aea",
   "metadata": {},
   "outputs": [],
   "source": [
    "pd.DataFrame(random_search.cv_results_)[[\"params\", \"mean_test_score\",\"mean_train_score\"  , \"rank_test_score\"]]"
   ]
  },
  {
   "cell_type": "markdown",
   "id": "4e5b6d53",
   "metadata": {},
   "source": [
    "## KNN Regressor"
   ]
  },
  {
   "cell_type": "code",
   "execution_count": null,
   "id": "879dba4b",
   "metadata": {},
   "outputs": [],
   "source": [
    "from sklearn.neighbors import KNeighborsRegressor\n",
    "\n",
    "pipe = make_pipeline(\n",
    "    preprocessor,KNeighborsRegressor())\n",
    "pipe"
   ]
  },
  {
   "cell_type": "code",
   "execution_count": null,
   "id": "fd17054c",
   "metadata": {},
   "outputs": [],
   "source": [
    "\n",
    "param_grid = {\n",
    "    \"kneighborsregressor__n_neighbors\": [70,80,90,100, 110,120,130,140]\n",
    "    \n",
    " \n",
    "}\n",
    "random_search = RandomizedSearchCV(pipe, param_distributions= param_grid, cv=3, verbose=2, n_jobs=1, n_iter=16, return_train_score = True)\n",
    "random_search.fit(X_train, y_train);"
   ]
  },
  {
   "cell_type": "code",
   "execution_count": null,
   "id": "d89123f5",
   "metadata": {},
   "outputs": [],
   "source": [
    "from IPython.display import HTML\n",
    "HTML(pd.DataFrame(random_search.cv_results_)[[\"params\",\"mean_test_score\",\"mean_train_score\" ]].to_html())"
   ]
  },
  {
   "cell_type": "markdown",
   "id": "70d43235",
   "metadata": {},
   "source": [
    "## Ridge Regressor"
   ]
  },
  {
   "cell_type": "code",
   "execution_count": null,
   "id": "01c42a29",
   "metadata": {},
   "outputs": [],
   "source": [
    "from sklearn.linear_model import Ridge\n",
    "\n",
    "pipe3 = make_pipeline(\n",
    "    preprocessor,Ridge())\n",
    "pipe3"
   ]
  },
  {
   "cell_type": "code",
   "execution_count": null,
   "id": "c5e47187",
   "metadata": {},
   "outputs": [],
   "source": [
    "from sklearn.model_selection import RandomizedSearchCV\n",
    "param_grid = {\n",
    "    \"ridge__alpha\": 10.0**np.arange(-2, 4, 1)\n",
    " \n",
    "}\n",
    "random_search = RandomizedSearchCV(pipe3,  param_distributions= param_grid, cv=2, verbose=2, n_jobs=2, n_iter=6, return_train_score = True)\n",
    "random_search.fit(X_train, y_train);"
   ]
  },
  {
   "cell_type": "code",
   "execution_count": null,
   "id": "eee2a06a",
   "metadata": {},
   "outputs": [],
   "source": [
    "pd.DataFrame(random_search.cv_results_)[[\"params\", \"mean_test_score\",\"mean_train_score\"  , \"rank_test_score\"]]"
   ]
  },
  {
   "cell_type": "markdown",
   "id": "6b25522b",
   "metadata": {},
   "source": [
    "## Decision Tree Regressor"
   ]
  },
  {
   "cell_type": "code",
   "execution_count": null,
   "id": "eec9c0bd",
   "metadata": {},
   "outputs": [],
   "source": [
    "from sklearn.tree import DecisionTreeRegressor\n",
    "pipe4 = make_pipeline(\n",
    "    preprocessor,DecisionTreeRegressor())\n",
    "pipe4"
   ]
  },
  {
   "cell_type": "code",
   "execution_count": null,
   "id": "d6613bda",
   "metadata": {},
   "outputs": [],
   "source": [
    "from sklearn.model_selection import RandomizedSearchCV\n",
    "\n",
    "param_grid = {\n",
    "    \"decisiontreeregressor__max_depth\": [2,3,4,5]\n",
    " \n",
    "}\n",
    "random_search = RandomizedSearchCV(pipe4,  param_distributions= param_grid, cv=3, verbose=2, n_jobs=2, n_iter=10, return_train_score = True)\n",
    "random_search.fit(X_train, y_train);"
   ]
  },
  {
   "cell_type": "code",
   "execution_count": null,
   "id": "8ee56d71",
   "metadata": {},
   "outputs": [],
   "source": [
    "pd.DataFrame(random_search.cv_results_)[[\"params\", \"mean_test_score\",\"mean_train_score\"  , \"rank_test_score\"]]"
   ]
  },
  {
   "cell_type": "markdown",
   "id": "4a896ff3",
   "metadata": {},
   "source": [
    "## Binning Price and Using a Classification Model"
   ]
  },
  {
   "cell_type": "markdown",
   "id": "00094021",
   "metadata": {},
   "source": [
    "Due to the low accuracy scores from the regression modeling, we adjusted the model to try to predict the price range that a listing was in by binning the prices into four categories corresponding to approximately the four price quartiles: low, medium-low, medium-high and high."
   ]
  },
  {
   "cell_type": "code",
   "execution_count": null,
   "id": "643e6f01",
   "metadata": {},
   "outputs": [],
   "source": [
    "#Re-read in the data to start fresh\n",
    "airbnb=pd.read_csv(\"AB_NYC_2019.csv\")\n",
    "airbnb.drop(['id','host_id','host_name','last_review'], axis=1, inplace=True)\n",
    "airbnb['name'] = airbnb['name'].fillna('missing') # could not get simpleimputer to work in pipeline with count vectorizer This seems to be an issue with sklearn \n",
    "#https://stackoverflow.com/questions/63000388/how-to-include-simpleimputer-before-countvectorizer-in-a-scikit-learn-pipeline"
   ]
  },
  {
   "cell_type": "code",
   "execution_count": null,
   "id": "fb62a95d",
   "metadata": {},
   "outputs": [],
   "source": [
    "def pricerange(price):\n",
    "    if price <=69:\n",
    "        return 'low'\n",
    "    elif price > 69 and price <=106:\n",
    "        return 'medium-low'\n",
    "    elif price > 106 and price <=175:\n",
    "        return 'medium-high'\n",
    "    elif price >175:\n",
    "        return 'high'\n"
   ]
  },
  {
   "cell_type": "code",
   "execution_count": null,
   "id": "41fd190c",
   "metadata": {},
   "outputs": [],
   "source": [
    "airbnb['price_range'] = airbnb.apply(lambda x: pricerange(x['price']),axis = 1)"
   ]
  },
  {
   "cell_type": "code",
   "execution_count": null,
   "id": "5453ea69",
   "metadata": {},
   "outputs": [],
   "source": [
    "from sklearn.model_selection import train_test_split\n",
    "train_df, test_df = train_test_split(airbnb, test_size=0.2, random_state=123)\n"
   ]
  },
  {
   "cell_type": "code",
   "execution_count": null,
   "id": "14ab6f88",
   "metadata": {},
   "outputs": [],
   "source": [
    "X_train = train_df.drop(columns = ['price', 'price_range'])\n",
    "y_train = train_df[\"price_range\"]\n",
    "\n",
    "X_test = test_df.drop(columns=[\"price\",\"price_range\"])\n",
    "y_test = test_df[\"price_range\"]"
   ]
  },
  {
   "cell_type": "code",
   "execution_count": null,
   "id": "0f45ed0b",
   "metadata": {},
   "outputs": [],
   "source": [
    "numeric_features = ['latitude', 'longitude', 'minimum_nights' , 'number_of_reviews', 'reviews_per_month','availability_365']\n",
    "categorical_features = ['room_type']\n",
    "text_features = ['name']"
   ]
  },
  {
   "cell_type": "code",
   "execution_count": null,
   "id": "baf80302",
   "metadata": {},
   "outputs": [],
   "source": [
    "from sklearn.neighbors import KNeighborsRegressor\n",
    "from sklearn.impute import SimpleImputer\n",
    "from sklearn.pipeline import Pipeline\n",
    "from sklearn.preprocessing import StandardScaler\n",
    "from sklearn.preprocessing import OneHotEncoder\n",
    "from sklearn.preprocessing import MaxAbsScaler\n",
    "from sklearn.pipeline import make_pipeline\n",
    "from sklearn.feature_extraction.text import CountVectorizer\n",
    "\n",
    "\n",
    "\n",
    "\n",
    "\n",
    "numeric_transformer = Pipeline(\n",
    "    steps=[\n",
    "        (\"imputer\", SimpleImputer(strategy=\"constant\",fill_value = 0)),\n",
    "        (\"scaler\", StandardScaler()),\n",
    "    ]\n",
    ")\n",
    "\n",
    "categorical_transformer= Pipeline(steps=[\n",
    "                ('onehotencoder', OneHotEncoder(handle_unknown=\"ignore\"))])\n",
    "\n",
    "text_transformer = make_pipeline(CountVectorizer(max_features=3), StandardScaler(with_mean = False)) "
   ]
  },
  {
   "cell_type": "code",
   "execution_count": null,
   "id": "9552adf0",
   "metadata": {},
   "outputs": [],
   "source": [
    "from sklearn.compose import ColumnTransformer\n",
    "preprocessor = ColumnTransformer(\n",
    "    transformers=[\n",
    "        (\"numeric\", numeric_transformer, numeric_features),\n",
    "        (\"categorical\", categorical_transformer, categorical_features),\n",
    "        (\"text\", text_transformer, 'name')\n",
    "       \n",
    "    ], \n",
    "    remainder='drop'    \n",
    ")"
   ]
  },
  {
   "cell_type": "markdown",
   "id": "eda7be84",
   "metadata": {},
   "source": [
    "## Dummy Classifier Model"
   ]
  },
  {
   "cell_type": "code",
   "execution_count": null,
   "id": "69da0dce",
   "metadata": {},
   "outputs": [],
   "source": [
    "from sklearn.dummy import DummyClassifier\n",
    "\n",
    "dummy = DummyClassifier(strategy = 'most_frequent')\n",
    "dummy.fit(X_train, y_train)\n",
    "dummy.score(X_train, y_train)"
   ]
  },
  {
   "cell_type": "markdown",
   "id": "9027d50b",
   "metadata": {},
   "source": [
    "## KNeighbours Classifier"
   ]
  },
  {
   "cell_type": "code",
   "execution_count": null,
   "id": "43920c1f",
   "metadata": {},
   "outputs": [],
   "source": [
    "from sklearn.neighbors import KNeighborsClassifier\n",
    "\n",
    "pipe6 = make_pipeline(\n",
    "    preprocessor,KNeighborsClassifier())\n",
    "pipe6"
   ]
  },
  {
   "cell_type": "code",
   "execution_count": null,
   "id": "b6bae333",
   "metadata": {},
   "outputs": [],
   "source": [
    "from sklearn.model_selection import RandomizedSearchCV\n",
    "\n",
    "param_grid = {\n",
    "    \"kneighborsclassifier__n_neighbors\": [5,10,15,20,25,30,35,40,50,60,70,80,90,100]\n",
    "    \n",
    " \n",
    "}\n",
    "random_search = RandomizedSearchCV(pipe6, param_distributions= param_grid, cv=3, verbose=2, n_jobs=1, n_iter=16, return_train_score = True)\n",
    "random_search.fit(X_train, y_train);"
   ]
  },
  {
   "cell_type": "code",
   "execution_count": null,
   "id": "702dc0e8",
   "metadata": {},
   "outputs": [],
   "source": [
    "pd.DataFrame(random_search.cv_results_)[[\"params\", \"mean_test_score\",\"mean_train_score\"  , \"rank_test_score\"]]"
   ]
  },
  {
   "cell_type": "code",
   "execution_count": null,
   "id": "e8c30d79",
   "metadata": {},
   "outputs": [],
   "source": []
  },
  {
   "cell_type": "code",
   "execution_count": null,
   "id": "4bc1d2e4",
   "metadata": {},
   "outputs": [],
   "source": []
  },
  {
   "cell_type": "code",
   "execution_count": null,
   "id": "d3c494a8",
   "metadata": {},
   "outputs": [],
   "source": []
  }
 ],
 "metadata": {
  "kernelspec": {
   "display_name": "Python 3 (ipykernel)",
   "language": "python",
   "name": "python3"
  },
  "language_info": {
   "codemirror_mode": {
    "name": "ipython",
    "version": 3
   },
   "file_extension": ".py",
   "mimetype": "text/x-python",
   "name": "python",
   "nbconvert_exporter": "python",
   "pygments_lexer": "ipython3",
   "version": "3.8.8"
  }
 },
 "nbformat": 4,
 "nbformat_minor": 5
}
