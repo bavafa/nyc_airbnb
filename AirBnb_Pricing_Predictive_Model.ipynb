{
 "cells": [
  {
   "cell_type": "markdown",
   "id": "e30f926e",
   "metadata": {},
   "source": [
    "# AirBnB Price Prediction Model\n",
    "\n",
    "This notebook goes over building a machine learning model to try to predict the price of an Airbnb listing in NYC based on a dataset of approximately 50,000 listings.\n",
    "\n",
    "This report contains several sections\n",
    "1. [Data Preparation](#Data-Preparation)\n",
    "2. [Preprocessing and Transformation Pipelines](#Preprocessing-and-Transformation-Pipelines)\n",
    "3. [Dummy Regressor Model](#Dummy-Regressor)\n",
    "4. [KNN Regression Model](#KNN-Regressor)\n",
    "5. [Ridge Regression Model](#Ridge-Regressor)\n",
    "6. [Decision Tree Regression Model](#Decision-Tree-Regressor)\n",
    "7. [Alternate Model Using Price Categories](#Binning-Price-and-Using-a-Classification-Model)\n",
    "8. [Random Forest Regressor](#Random-Forest-Regressor)\n",
    "\n",
    "The various models were built to try to find the optimal algorithm to use for this dataset."
   ]
  },
  {
   "cell_type": "markdown",
   "id": "537edf32",
   "metadata": {},
   "source": [
    "## Data Preparation"
   ]
  },
  {
   "cell_type": "code",
   "execution_count": null,
   "id": "b5d7217a",
   "metadata": {},
   "outputs": [],
   "source": [
    "import numpy as np\n",
    "import pandas as pd\n",
    "import matplotlib.pyplot as plt\n",
    "import seaborn as sns"
   ]
  },
  {
   "cell_type": "code",
   "execution_count": null,
   "id": "24ca7b11",
   "metadata": {},
   "outputs": [],
   "source": [
    "airbnb=pd.read_csv(\"AB_NYC_2019.csv\")\n",
    "airbnb.drop(['id','host_id','host_name','last_review'], axis=1, inplace=True)\n",
    "airbnb['name'] = airbnb['name'].fillna('missing') # could not get simpleimputer to work in pipeline with count vectorizer This seems to be an issue with sklearn \n",
    "#https://stackoverflow.com/questions/63000388/how-to-include-simpleimputer-before-countvectorizer-in-a-scikit-learn-pipeline"
   ]
  },
  {
   "cell_type": "code",
   "execution_count": null,
   "id": "da1b2f6e",
   "metadata": {},
   "outputs": [],
   "source": [
    "airbnb.info()"
   ]
  },
  {
   "cell_type": "code",
   "execution_count": null,
   "id": "5b1a636c",
   "metadata": {},
   "outputs": [],
   "source": [
    "airbnb.isnull().sum() #how many nulls are found in each column in dataset "
   ]
  },
  {
   "cell_type": "code",
   "execution_count": null,
   "id": "523d67a0",
   "metadata": {},
   "outputs": [],
   "source": [
    "# Creating a copy for Omitting the outliers\n",
    "df = pd.DataFrame()\n",
    "df = airbnb\n",
    "df.head()"
   ]
  },
  {
   "cell_type": "code",
   "execution_count": null,
   "id": "b79c729c",
   "metadata": {},
   "outputs": [],
   "source": [
    "#Visualization\n",
    "import matplotlib as mpl\n",
    "import matplotlib.pyplot as plt\n",
    "import matplotlib.pylab as pylab\n",
    "import seaborn as sns\n",
    "from pandas.plotting import autocorrelation_plot\n",
    "\n",
    "#Configure Visualization Defaults\n",
    "%matplotlib inline\n",
    "mpl.style.use('ggplot')\n",
    "sns.set_style('white')\n",
    "pylab.rcParams['figure.figsize'] = 12,8"
   ]
  },
  {
   "cell_type": "code",
   "execution_count": null,
   "id": "bdbc1fc6",
   "metadata": {},
   "outputs": [],
   "source": [
    "plt.figure(figsize = (15, 10))\n",
    "plt.style.use('seaborn-white')\n",
    "\n",
    "ax = plt.subplot(121)\n",
    "plt.boxplot(df['price'])\n",
    "ax.set_title('Price')\n",
    "\n",
    "ax=plt.subplot(122)\n",
    "plt.boxplot(df['number_of_reviews'])\n",
    "ax.set_title('Numer of Reviews')"
   ]
  },
  {
   "cell_type": "code",
   "execution_count": null,
   "id": "4b3820b2",
   "metadata": {},
   "outputs": [],
   "source": [
    "# Removing the outliers\n",
    "# REF: https://towardsdatascience.com/practical-implementation-of-outlier-detection-in-python-90680453b3ce\n",
    "\n",
    "# 1st & 3rd Quartiles for Price\n",
    "q1 = df['price'].quantile(0.25)\n",
    "q3 = df['price'].quantile(0.75)\n",
    "\n",
    "# Calculating the IQR for Price Column\n",
    "iqr = q3 - q1 \n",
    "\n",
    "df_price = df[~((df['price']<(q1-1.5*iqr)) | (df['price']>(q3+1.5*iqr)))]\n",
    "\n",
    "\n",
    "# 1st & 3rd Quartiles for Number of Reviews\n",
    "q1 = df_price['number_of_reviews'].quantile(0.25)\n",
    "q3 = df_price['number_of_reviews'].quantile(0.75)\n",
    "\n",
    "# Calculating the IQR for Number of Reviews Column\n",
    "iqr = q3 - q1 \n",
    "\n",
    "df_new = df_price[~((df_price['number_of_reviews']<(q1-1.5*iqr)) | (df_price['number_of_reviews']>(q3+1.5*iqr)))]"
   ]
  },
  {
   "cell_type": "code",
   "execution_count": null,
   "id": "f64c2f82",
   "metadata": {},
   "outputs": [],
   "source": [
    "plt.figure(figsize = (15, 10))\n",
    "plt.style.use('seaborn-white')\n",
    "\n",
    "ax = plt.subplot(121)\n",
    "plt.boxplot(df_new['price'])\n",
    "ax.set_title('Price')\n",
    "\n",
    "ax=plt.subplot(122)\n",
    "plt.boxplot(df_new['number_of_reviews'])\n",
    "ax.set_title('Numer of Reviews')"
   ]
  },
  {
   "cell_type": "code",
   "execution_count": null,
   "id": "e332d3c3",
   "metadata": {},
   "outputs": [],
   "source": [
    "from sklearn.model_selection import train_test_split\n",
    "\n",
    "train_df, test_df = train_test_split(df_new, test_size=0.2, random_state=123)"
   ]
  },
  {
   "cell_type": "markdown",
   "id": "b544889d",
   "metadata": {},
   "source": [
    "### Investigating the correlation between features"
   ]
  },
  {
   "cell_type": "code",
   "execution_count": null,
   "id": "c1ab78f5",
   "metadata": {},
   "outputs": [],
   "source": [
    "#Correlation Matrix for numerical values, low correlation between features and target variable likely means it will be difficult to get a high scoring model\n",
    "#Code sourced from https://stackoverflow.com/questions/29432629/plot-correlation-matrix-using-pandas\n",
    "f= plt.figure(figsize=(19, 15))\n",
    "plt.matshow(train_df.corr(), fignum=f.number)\n",
    "plt.xticks(range(train_df.select_dtypes(['number']).shape[1]), train_df.select_dtypes(['number']).columns, fontsize=14, rotation=45)\n",
    "plt.yticks(range(train_df.select_dtypes(['number']).shape[1]), train_df.select_dtypes(['number']).columns, fontsize=14)\n",
    "cb = plt.colorbar()\n",
    "cb.ax.tick_params(labelsize=14)\n",
    "plt.title('Correlation Matrix', fontsize=16);"
   ]
  },
  {
   "cell_type": "code",
   "execution_count": null,
   "id": "c1b2bf22",
   "metadata": {},
   "outputs": [],
   "source": [
    "#correlation matrix\n",
    "train_df.corr()"
   ]
  },
  {
   "cell_type": "code",
   "execution_count": null,
   "id": "db065c0e",
   "metadata": {},
   "outputs": [],
   "source": [
    "# Numerical description\n",
    "train_df.describe(include=[np.number])"
   ]
  },
  {
   "cell_type": "code",
   "execution_count": null,
   "id": "9cd7a88a",
   "metadata": {},
   "outputs": [],
   "source": [
    "# Categorical\n",
    "train_df.describe(include=['O'])"
   ]
  },
  {
   "cell_type": "code",
   "execution_count": null,
   "id": "fca70824",
   "metadata": {},
   "outputs": [],
   "source": [
    "train_df.groupby('neighbourhood_group').median()[['price','minimum_nights']]"
   ]
  },
  {
   "cell_type": "code",
   "execution_count": null,
   "id": "72e15c56",
   "metadata": {},
   "outputs": [],
   "source": [
    "import altair as alt\n",
    "\n",
    "alt.data_transformers.disable_max_rows()  # Allows us to plot big datasets\n",
    "\n",
    "#Plot histogram\n",
    "alt.Chart(train_df).mark_bar(\n",
    "    opacity=0.5,\n",
    "    binSpacing=0\n",
    ").encode(\n",
    "    alt.X('price:Q', bin=alt.Bin(maxbins=100)),\n",
    "    alt.Y('count()', stack=None),\n",
    "    alt.Color('neighbourhood_group:N'))"
   ]
  },
  {
   "cell_type": "code",
   "execution_count": null,
   "id": "45f86cfb",
   "metadata": {},
   "outputs": [],
   "source": [
    "#create df with lower prices\n",
    "lowerprices = train_df[train_df['price'] <1000]"
   ]
  },
  {
   "cell_type": "code",
   "execution_count": null,
   "id": "104ee8c4",
   "metadata": {},
   "outputs": [],
   "source": [
    "alt.Chart(lowerprices).mark_bar(\n",
    "    opacity=0.6,\n",
    "    binSpacing=0\n",
    ").encode(\n",
    "    alt.X('price:Q', bin=alt.Bin(maxbins=100)),\n",
    "    alt.Y('count()', stack=None),\n",
    "    alt.Color('neighbourhood_group:N'))"
   ]
  },
  {
   "cell_type": "code",
   "execution_count": null,
   "id": "acd2ab21",
   "metadata": {},
   "outputs": [],
   "source": [
    "alt.Chart(lowerprices).mark_bar(\n",
    "    opacity=0.6,\n",
    "    binSpacing=0\n",
    ").encode(\n",
    "    alt.X('price:Q', bin=alt.Bin(maxbins=100)),\n",
    "    alt.Y('count()', stack=None),\n",
    "    alt.Color('room_type:N'))"
   ]
  },
  {
   "cell_type": "code",
   "execution_count": null,
   "id": "a864169b",
   "metadata": {},
   "outputs": [],
   "source": [
    "alt.Chart(lowerprices).mark_bar(\n",
    "    opacity=0.6,\n",
    "    binSpacing=0\n",
    ").encode(\n",
    "    alt.X('price:Q', bin=alt.Bin(maxbins=100)),\n",
    "    alt.Y('count()', stack=None),\n",
    "    alt.Color('number_of_reviews:Q',bin = True))"
   ]
  },
  {
   "cell_type": "code",
   "execution_count": null,
   "id": "f37f2f05",
   "metadata": {},
   "outputs": [],
   "source": [
    "alt.Chart(lowerprices).mark_bar(\n",
    "    opacity=0.6,\n",
    "    binSpacing=0\n",
    ").encode(\n",
    "    alt.X('price:Q', bin=alt.Bin(maxbins=100)),\n",
    "    alt.Y('count()', stack=None),\n",
    "    alt.Color('reviews_per_month:Q',bin = True))"
   ]
  },
  {
   "cell_type": "code",
   "execution_count": null,
   "id": "da9fcfcc",
   "metadata": {},
   "outputs": [],
   "source": [
    "#Function to bin the listings by price according to quartile\n",
    "def pricerange(price):\n",
    "    if price <=69:\n",
    "        return 'low'\n",
    "    elif price > 69 and price <=106:\n",
    "        return 'medium-low'\n",
    "    elif price > 106 and price <=175:\n",
    "        return 'medium-high'\n",
    "    elif price >175:\n",
    "        return 'high'"
   ]
  },
  {
   "cell_type": "code",
   "execution_count": null,
   "id": "4f6b4377",
   "metadata": {},
   "outputs": [],
   "source": [
    "#Create a new column in the dataframe that is a price category\n",
    "train_df['price_range'] = airbnb.apply(lambda x: pricerange(x['price']),axis = 1)"
   ]
  },
  {
   "cell_type": "code",
   "execution_count": null,
   "id": "82cc9b16",
   "metadata": {},
   "outputs": [],
   "source": [
    "alt.Chart(train_df).mark_bar(\n",
    "    opacity=1,\n",
    "    binSpacing=0\n",
    ").encode(\n",
    "    alt.X('price:Q', bin=alt.Bin(maxbins=100)),\n",
    "    alt.Y('count()', stack=None),\n",
    "    alt.Color('price_range:N',scale=alt.Scale(\n",
    "            domain=['high', 'medium-high','medium-low','low'],\n",
    "            range=['black', 'blue','green','red'])))"
   ]
  },
  {
   "cell_type": "code",
   "execution_count": null,
   "id": "c6db5e9c",
   "metadata": {
    "scrolled": true
   },
   "outputs": [],
   "source": [
    "#REALLY SLOW\n",
    "#interactive map slow to load as each point is added to map\n",
    "#code is taken from a previous project\n",
    "# create map\n",
    "import folium\n",
    "import matplotlib.cm as cm\n",
    "import matplotlib.colors as colors\n",
    "import matplotlib.pyplot as plt\n",
    "\n",
    "map_airbnb = folium.Map(location=[40.73293,-73.99782], zoom_start=11)\n",
    "pricedict = {'low':0,'medium-low':1,'medium-high':2, 'high':3}\n",
    "colorlist = ['#FF0000','#00FF00','#0000FF','#000000']\n",
    "\n",
    "# add markers to the map\n",
    "markers_colors = []\n",
    "for lat, lon, name, price in zip(train_df['latitude'], train_df['longitude'], train_df['name'], train_df['price_range']):\n",
    "    label = folium.Popup(str(name) + ' PRICE RANGE: ' + str(price), parse_html=True)\n",
    "    folium.CircleMarker(\n",
    "        [lat, lon],\n",
    "        radius=2,\n",
    "        popup=label,\n",
    "        color=colorlist[pricedict[price]],\n",
    "        fill=True,\n",
    "        fill_color=colorlist[pricedict[price]],\n",
    "        fill_opacity=0.4).add_to(map_airbnb)"
   ]
  },
  {
   "cell_type": "code",
   "execution_count": null,
   "id": "08501195",
   "metadata": {},
   "outputs": [],
   "source": [
    "#save the map as html file\n",
    "map_airbnb\n",
    "output_file = \"nycmap.html\"\n",
    "map_airbnb.save(output_file)"
   ]
  },
  {
   "cell_type": "code",
   "execution_count": null,
   "id": "bd7ddd74",
   "metadata": {},
   "outputs": [],
   "source": [
    "# Split the data into x,y sets\n",
    "X_train = train_df.drop(columns = ['price'])\n",
    "y_train = train_df['price']\n",
    "\n",
    "X_test = test_df.drop(columns = ['price'])\n",
    "y_test = test_df['price']"
   ]
  },
  {
   "cell_type": "markdown",
   "id": "e04416a1",
   "metadata": {},
   "source": [
    "## Preprocessing and Transformation Pipelines"
   ]
  },
  {
   "cell_type": "code",
   "execution_count": null,
   "id": "347f09b0",
   "metadata": {},
   "outputs": [],
   "source": [
    "numeric_features = ['latitude', 'longitude', 'number_of_reviews', 'reviews_per_month', 'calculated_host_listings_count']\n",
    "categorical_features = ['room_type']\n",
    "#text_features = ['name']"
   ]
  },
  {
   "cell_type": "code",
   "execution_count": null,
   "id": "41bd5b78",
   "metadata": {},
   "outputs": [],
   "source": [
    "from sklearn.neighbors import KNeighborsRegressor\n",
    "from sklearn.impute import SimpleImputer\n",
    "from sklearn.pipeline import Pipeline\n",
    "from sklearn.preprocessing import StandardScaler\n",
    "from sklearn.preprocessing import OneHotEncoder\n",
    "from sklearn.pipeline import make_pipeline\n",
    "from sklearn.feature_extraction.text import CountVectorizer\n",
    "\n",
    "\n",
    "numeric_transformer = Pipeline(\n",
    "    steps=[\n",
    "        (\"imputer\", SimpleImputer(strategy=\"constant\",fill_value = 0)),\n",
    "        (\"scaler\", StandardScaler()),\n",
    "    ]\n",
    ")\n",
    "\n",
    "categorical_transformer= Pipeline(steps=[\n",
    "                ('onehotencoder', OneHotEncoder(handle_unknown=\"ignore\"))])\n",
    "\n",
    "#text_transformer = make_pipeline(CountVectorizer(max_features = 3),StandardScaler(with_mean=False)) "
   ]
  },
  {
   "cell_type": "code",
   "execution_count": null,
   "id": "22ff9882",
   "metadata": {},
   "outputs": [],
   "source": [
    "from sklearn.compose import ColumnTransformer\n",
    "preprocessor = ColumnTransformer(\n",
    "    transformers=[\n",
    "        (\"numeric\", numeric_transformer, numeric_features),\n",
    "        (\"categorical\", categorical_transformer, categorical_features)\n",
    "        #(\"text\", text_transformer, 'name')\n",
    "       \n",
    "    ], \n",
    "    remainder='drop'    \n",
    ")"
   ]
  },
  {
   "cell_type": "markdown",
   "id": "72c67009",
   "metadata": {},
   "source": [
    "## Dummy Regressor"
   ]
  },
  {
   "cell_type": "code",
   "execution_count": null,
   "id": "676e91b6",
   "metadata": {},
   "outputs": [],
   "source": [
    "from sklearn.dummy import DummyRegressor\n",
    "\n",
    "pipe1 = make_pipeline(\n",
    "    preprocessor,DummyRegressor())\n",
    "pipe1"
   ]
  },
  {
   "cell_type": "code",
   "execution_count": null,
   "id": "62910e10",
   "metadata": {},
   "outputs": [],
   "source": [
    "from sklearn.model_selection import RandomizedSearchCV\n",
    "\n",
    "param_grid = {\n",
    "    \"dummyregressor__strategy\": ['mean']\n",
    " \n",
    "}\n",
    "random_search = RandomizedSearchCV(pipe1, param_distributions= param_grid, cv=2, verbose=2, n_jobs= 1, n_iter=5, return_train_score = True)\n",
    "random_search.fit(X_train, y_train);"
   ]
  },
  {
   "cell_type": "code",
   "execution_count": null,
   "id": "6e139f79",
   "metadata": {},
   "outputs": [],
   "source": [
    "pd.DataFrame(random_search.cv_results_)[[\"params\", \"mean_test_score\",\"mean_train_score\"  , \"rank_test_score\"]]"
   ]
  },
  {
   "cell_type": "markdown",
   "id": "9e2f93d2",
   "metadata": {},
   "source": [
    "## KNN Regressor"
   ]
  },
  {
   "cell_type": "code",
   "execution_count": null,
   "id": "6535de60",
   "metadata": {},
   "outputs": [],
   "source": [
    "from sklearn.neighbors import KNeighborsRegressor\n",
    "\n",
    "pipe = make_pipeline(\n",
    "    preprocessor,KNeighborsRegressor())\n",
    "pipe"
   ]
  },
  {
   "cell_type": "code",
   "execution_count": null,
   "id": "33234957",
   "metadata": {},
   "outputs": [],
   "source": [
    "param_grid = {\n",
    "    \"kneighborsregressor__n_neighbors\": [30,35,40,50,60]\n",
    "    \n",
    " \n",
    "}\n",
    "random_search = RandomizedSearchCV(pipe, param_distributions= param_grid, cv=3, verbose=2, n_jobs=1, n_iter=16, return_train_score = True)\n",
    "random_search.fit(X_train, y_train);"
   ]
  },
  {
   "cell_type": "code",
   "execution_count": null,
   "id": "121897fe",
   "metadata": {},
   "outputs": [],
   "source": [
    "from IPython.display import HTML\n",
    "HTML(pd.DataFrame(random_search.cv_results_)[[\"params\", \"mean_test_score\", \"mean_train_score\" ]].to_html())"
   ]
  },
  {
   "cell_type": "code",
   "execution_count": null,
   "id": "d7e21a49",
   "metadata": {},
   "outputs": [],
   "source": [
    "random_search.score(X_test,y_test)"
   ]
  },
  {
   "cell_type": "markdown",
   "id": "c5767fa1",
   "metadata": {},
   "source": [
    "## Ridge Regressor"
   ]
  },
  {
   "cell_type": "code",
   "execution_count": null,
   "id": "1b80167b",
   "metadata": {},
   "outputs": [],
   "source": [
    "from sklearn.linear_model import Ridge\n",
    "\n",
    "pipe3 = make_pipeline(\n",
    "    preprocessor,Ridge())\n",
    "pipe3"
   ]
  },
  {
   "cell_type": "code",
   "execution_count": null,
   "id": "f9f05356",
   "metadata": {},
   "outputs": [],
   "source": [
    "from sklearn.model_selection import RandomizedSearchCV\n",
    "param_grid = {\n",
    "    \"ridge__alpha\": 10.0**np.arange(-2, 4, 1)\n",
    " \n",
    "}\n",
    "random_search = RandomizedSearchCV(pipe3, param_distributions= param_grid, cv=2, verbose=2, n_jobs= 1, n_iter=6, return_train_score = True)\n",
    "random_search.fit(X_train, y_train);"
   ]
  },
  {
   "cell_type": "code",
   "execution_count": null,
   "id": "e4221a9d",
   "metadata": {},
   "outputs": [],
   "source": [
    "pd.DataFrame(random_search.cv_results_)[[\"params\", \"mean_test_score\",\"mean_train_score\"  , \"rank_test_score\"]]"
   ]
  },
  {
   "cell_type": "markdown",
   "id": "9e645db4",
   "metadata": {},
   "source": [
    "## Decision Tree Regressor"
   ]
  },
  {
   "cell_type": "code",
   "execution_count": null,
   "id": "2346f230",
   "metadata": {},
   "outputs": [],
   "source": [
    "from sklearn.tree import DecisionTreeRegressor\n",
    "pipe4 = make_pipeline(\n",
    "    preprocessor,DecisionTreeRegressor())\n",
    "pipe4"
   ]
  },
  {
   "cell_type": "code",
   "execution_count": null,
   "id": "38618e3e",
   "metadata": {},
   "outputs": [],
   "source": [
    "from sklearn.model_selection import RandomizedSearchCV\n",
    "\n",
    "param_grid = {\n",
    "    \"decisiontreeregressor__max_depth\": [2,3,4,5]\n",
    " \n",
    "}\n",
    "random_search = RandomizedSearchCV(pipe4,  param_distributions= param_grid, cv=3, verbose=2, n_jobs=1, n_iter=10, return_train_score = True)\n",
    "random_search.fit(X_train, y_train);"
   ]
  },
  {
   "cell_type": "code",
   "execution_count": null,
   "id": "8710547d",
   "metadata": {},
   "outputs": [],
   "source": [
    "pd.DataFrame(random_search.cv_results_)[[\"params\", \"mean_test_score\", \"mean_train_score\", \"rank_test_score\"]]"
   ]
  },
  {
   "cell_type": "markdown",
   "id": "c938b223",
   "metadata": {},
   "source": [
    "## Dummy Classifier Model"
   ]
  },
  {
   "cell_type": "code",
   "execution_count": null,
   "id": "937ed142",
   "metadata": {},
   "outputs": [],
   "source": [
    "from sklearn.dummy import DummyClassifier\n",
    "\n",
    "dummy = DummyClassifier(strategy = 'most_frequent')\n",
    "dummy.fit(X_train, y_train)\n",
    "dummy.score(X_train, y_train)"
   ]
  },
  {
   "cell_type": "markdown",
   "id": "c34d3cd5",
   "metadata": {},
   "source": [
    "## KNeighbours Classifier"
   ]
  },
  {
   "cell_type": "code",
   "execution_count": null,
   "id": "faf50640",
   "metadata": {},
   "outputs": [],
   "source": [
    "from sklearn.neighbors import KNeighborsClassifier\n",
    "\n",
    "pipe6 = make_pipeline(\n",
    "    preprocessor,KNeighborsClassifier())\n",
    "pipe6"
   ]
  },
  {
   "cell_type": "code",
   "execution_count": null,
   "id": "55ce6d1f",
   "metadata": {},
   "outputs": [],
   "source": [
    "from sklearn.model_selection import RandomizedSearchCV\n",
    "\n",
    "param_grid = {\n",
    "    \"kneighborsclassifier__n_neighbors\": [5,10,20,30,40,50,60,70,80,90,100]\n",
    "}\n",
    "\n",
    "random_search = RandomizedSearchCV(pipe6, param_distributions= param_grid, cv=3, verbose=2, n_jobs=1, n_iter=11, return_train_score = True)\n",
    "random_search.fit(X_train, y_train);"
   ]
  },
  {
   "cell_type": "code",
   "execution_count": null,
   "id": "3d3de068",
   "metadata": {},
   "outputs": [],
   "source": [
    "pd.DataFrame(random_search.cv_results_)[[\"params\", \"mean_test_score\", \"mean_train_score\", \"rank_test_score\"]]"
   ]
  },
  {
   "cell_type": "markdown",
   "id": "f7a9b777",
   "metadata": {},
   "source": [
    "## Random Forest Regressor"
   ]
  },
  {
   "cell_type": "code",
   "execution_count": null,
   "id": "7361ea55",
   "metadata": {},
   "outputs": [],
   "source": [
    "numeric_features = ['latitude', 'longitude', 'number_of_reviews', 'reviews_per_month', 'calculated_host_listings_count']\n",
    "categorical_features = ['room_type']"
   ]
  },
  {
   "cell_type": "code",
   "execution_count": null,
   "id": "37171c37",
   "metadata": {},
   "outputs": [],
   "source": [
    "numeric_transformer = Pipeline(\n",
    "    steps = [\n",
    "        (\"imputer\", SimpleImputer(strategy = \"constant\")),\n",
    "        (\"scaler\", StandardScaler()),\n",
    "    ]\n",
    ")\n",
    "\n",
    "categorical_transformer = Pipeline(steps=[\n",
    "                ('onehotencoder', OneHotEncoder(handle_unknown = \"ignore\"))])"
   ]
  },
  {
   "cell_type": "code",
   "execution_count": null,
   "id": "9c79aa96",
   "metadata": {},
   "outputs": [],
   "source": [
    "from sklearn.compose import ColumnTransformer\n",
    "preprocessor = ColumnTransformer(\n",
    "    transformers=[\n",
    "        (\"numeric\", numeric_transformer, numeric_features),\n",
    "        (\"categorical\", categorical_transformer, categorical_features)\n",
    "    ], \n",
    "    remainder='drop'    \n",
    ")"
   ]
  },
  {
   "cell_type": "code",
   "execution_count": null,
   "id": "fea175ae",
   "metadata": {},
   "outputs": [],
   "source": [
    "from sklearn.ensemble import RandomForestRegressor\n",
    "rf = RandomForestRegressor()\n",
    "from pprint import pprint\n",
    "\n",
    "# Look at parameters used by our current forest\n",
    "print('Parameters currently in use:\\n')\n",
    "pprint(rf.get_params())"
   ]
  },
  {
   "cell_type": "code",
   "execution_count": null,
   "id": "85346f14",
   "metadata": {},
   "outputs": [],
   "source": [
    "# REF: https://towardsdatascience.com/hyperparameter-tuning-the-random-forest-in-python-using-scikit-learn-28d2aa77dd74\n",
    "\n",
    "from sklearn.model_selection import RandomizedSearchCV\n",
    "\n",
    "# Number of trees in random forest\n",
    "n_estimators = [int(x) for x in np.linspace(start = 50, stop = 400, num = 8)]\n",
    "\n",
    "# Number of features to consider at every split\n",
    "max_features = ['auto', 'sqrt']\n",
    "\n",
    "# Maximum number of levels in tree\n",
    "max_depth = [int(x) for x in np.linspace(10, 100, num = 10)]\n",
    "max_depth.append(None)\n",
    "\n",
    "# Minimum number of samples required to split a node\n",
    "min_samples_split = [2, 5, 10]\n",
    "\n",
    "# Minimum number of samples required at each leaf node\n",
    "min_samples_leaf = [1, 2, 4]\n",
    "\n",
    "# Method of selecting samples for training each tree\n",
    "bootstrap = [True, False]\n",
    "\n",
    "# Create the random grid\n",
    "param_grid = {'rf__n_estimators': n_estimators,\n",
    "               'rf__max_features': max_features,\n",
    "               'rf__max_depth': max_depth,\n",
    "               'rf__min_samples_split': min_samples_split,\n",
    "               'rf__min_samples_leaf': min_samples_leaf,\n",
    "               'rf__bootstrap': bootstrap}\n",
    "pprint(param_grid)"
   ]
  },
  {
   "cell_type": "code",
   "execution_count": null,
   "id": "85068621",
   "metadata": {},
   "outputs": [],
   "source": [
    "pipe_rf = Pipeline(\n",
    "    steps=[\n",
    "        (\"preprocessor\", preprocessor), \n",
    "        (\"rf\", RandomForestRegressor())])\n",
    "pipe_rf"
   ]
  },
  {
   "cell_type": "code",
   "execution_count": null,
   "id": "ea38f2d2",
   "metadata": {},
   "outputs": [],
   "source": [
    "from sklearn.model_selection import RandomizedSearchCV\n",
    "from sklearn.model_selection import GridSearchCV\n",
    "\n",
    "# Random search of parameters, using 3 fold cross validation, \n",
    "# search across 10 different combinations, and use all available cores\n",
    "rf_random = RandomizedSearchCV(pipe_rf, param_distributions = param_grid, n_iter = 10, cv = 3, verbose = 2, random_state = 123, n_jobs = -1, return_train_score = True)\n",
    "\n",
    "# Fit the random search model\n",
    "rf_random.fit(X_train, y_train);"
   ]
  },
  {
   "cell_type": "code",
   "execution_count": null,
   "id": "222b438d",
   "metadata": {},
   "outputs": [],
   "source": [
    "rf_random.best_params_"
   ]
  },
  {
   "cell_type": "code",
   "execution_count": null,
   "id": "26462431",
   "metadata": {},
   "outputs": [],
   "source": [
    "pd.DataFrame(rf_random.cv_results_)[[\"params\", \"mean_test_score\", \"mean_train_score\", \"rank_test_score\"]]"
   ]
  },
  {
   "cell_type": "code",
   "execution_count": null,
   "id": "f7a3919a",
   "metadata": {},
   "outputs": [],
   "source": [
    "rf_random.score(X_test,y_test)"
   ]
  },
  {
   "cell_type": "markdown",
   "id": "42fee57b",
   "metadata": {},
   "source": [
    "## Binning Price and Using a Classification Model\n",
    "\n",
    "\n",
    "Due to the low accuracy scores from the regression modeling, we adjusted the model to try to predict the price range that a listing was in by binning the prices into four categories corresponding to approximately the four price quartiles: low, medium-low, medium-high and high."
   ]
  },
  {
   "cell_type": "code",
   "execution_count": null,
   "id": "d755902e",
   "metadata": {},
   "outputs": [],
   "source": [
    "#Re-read in the data to start fresh\n",
    "airbnb=pd.read_csv(\"AB_NYC_2019.csv\")\n",
    "airbnb.drop(['id','host_id','host_name','last_review'], axis=1, inplace=True)\n",
    "airbnb['name'] = airbnb['name'].fillna('missing') # could not get simpleimputer to work in pipeline with count vectorizer This seems to be an issue with sklearn \n",
    "#https://stackoverflow.com/questions/63000388/how-to-include-simpleimputer-before-countvectorizer-in-a-scikit-learn-pipeline"
   ]
  },
  {
   "cell_type": "code",
   "execution_count": null,
   "id": "798377e9",
   "metadata": {},
   "outputs": [],
   "source": [
    "def pricerange(price):\n",
    "    if price <=69:\n",
    "        return 'low'\n",
    "    elif price > 69 and price <=106:\n",
    "        return 'medium-low'\n",
    "    elif price > 106 and price <=175:\n",
    "        return 'medium-high'\n",
    "    elif price >175:\n",
    "        return 'high'"
   ]
  },
  {
   "cell_type": "code",
   "execution_count": null,
   "id": "f81a3f00",
   "metadata": {},
   "outputs": [],
   "source": [
    "airbnb['price_range'] = airbnb.apply(lambda x: pricerange(x['price']),axis = 1)"
   ]
  },
  {
   "cell_type": "code",
   "execution_count": null,
   "id": "055f2b62",
   "metadata": {},
   "outputs": [],
   "source": [
    "from sklearn.model_selection import train_test_split\n",
    "train_df, test_df = train_test_split(airbnb, test_size=0.2, random_state=123)"
   ]
  },
  {
   "cell_type": "code",
   "execution_count": null,
   "id": "38e2c7ae",
   "metadata": {},
   "outputs": [],
   "source": [
    "X_train = train_df.drop(columns = ['price', 'price_range'])\n",
    "y_train = train_df[\"price_range\"]\n",
    "\n",
    "X_test = test_df.drop(columns=[\"price\",\"price_range\"])\n",
    "y_test = test_df[\"price_range\"]"
   ]
  },
  {
   "cell_type": "code",
   "execution_count": null,
   "id": "f05f3c85",
   "metadata": {},
   "outputs": [],
   "source": [
    "numeric_features = ['latitude', 'longitude', 'minimum_nights' , 'number_of_reviews', 'reviews_per_month','availability_365']\n",
    "categorical_features = ['room_type']\n",
    "text_features = ['name']"
   ]
  },
  {
   "cell_type": "code",
   "execution_count": null,
   "id": "13ee5975",
   "metadata": {},
   "outputs": [],
   "source": [
    "from sklearn.neighbors import KNeighborsRegressor\n",
    "from sklearn.impute import SimpleImputer\n",
    "from sklearn.pipeline import Pipeline\n",
    "from sklearn.preprocessing import StandardScaler\n",
    "from sklearn.preprocessing import OneHotEncoder\n",
    "from sklearn.preprocessing import MaxAbsScaler\n",
    "from sklearn.pipeline import make_pipeline\n",
    "from sklearn.feature_extraction.text import CountVectorizer\n",
    "\n",
    "\n",
    "numeric_transformer = Pipeline(\n",
    "    steps=[\n",
    "        (\"imputer\", SimpleImputer(strategy=\"constant\",fill_value = 0)),\n",
    "        (\"scaler\", StandardScaler()),\n",
    "    ]\n",
    ")\n",
    "\n",
    "categorical_transformer= Pipeline(steps=[\n",
    "                ('onehotencoder', OneHotEncoder(handle_unknown=\"ignore\"))])\n",
    "\n",
    "text_transformer = make_pipeline(CountVectorizer(max_features=3), StandardScaler(with_mean = False)) "
   ]
  },
  {
   "cell_type": "code",
   "execution_count": null,
   "id": "d6aeae1b",
   "metadata": {},
   "outputs": [],
   "source": [
    "from sklearn.compose import ColumnTransformer\n",
    "preprocessor = ColumnTransformer(\n",
    "    transformers=[\n",
    "        (\"numeric\", numeric_transformer, numeric_features),\n",
    "        (\"categorical\", categorical_transformer, categorical_features),\n",
    "        (\"text\", text_transformer, 'name')\n",
    "       \n",
    "    ], \n",
    "    remainder='drop'    \n",
    ")"
   ]
  },
  {
   "cell_type": "code",
   "execution_count": null,
   "id": "bb1b6c02",
   "metadata": {},
   "outputs": [],
   "source": []
  }
 ],
 "metadata": {
  "kernelspec": {
   "display_name": "Python 3 (ipykernel)",
   "language": "python",
   "name": "python3"
  },
  "language_info": {
   "codemirror_mode": {
    "name": "ipython",
    "version": 3
   },
   "file_extension": ".py",
   "mimetype": "text/x-python",
   "name": "python",
   "nbconvert_exporter": "python",
   "pygments_lexer": "ipython3",
   "version": "3.8.8"
  }
 },
 "nbformat": 4,
 "nbformat_minor": 5
}
